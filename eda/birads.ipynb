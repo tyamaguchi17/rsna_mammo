{
 "cells": [
  {
   "cell_type": "code",
   "execution_count": 1,
   "id": "240fb60a",
   "metadata": {},
   "outputs": [],
   "source": [
    "from pathlib import Path\n",
    "from tqdm import tqdm\n",
    "import numpy as np\n",
    "import pandas as pd\n",
    "import os\n",
    "import sys\n",
    "import shutil\n",
    "sys.path.append(\"../BIRADS_classifier\")\n",
    "os.chdir(\"../BIRADS_classifier\")"
   ]
  },
  {
   "cell_type": "code",
   "execution_count": 2,
   "id": "22c98469",
   "metadata": {},
   "outputs": [],
   "source": [
    "from birads_prediction_torch import inference"
   ]
  },
  {
   "cell_type": "code",
   "execution_count": 3,
   "id": "2e03e890",
   "metadata": {},
   "outputs": [],
   "source": [
    "model_path = \"saved_models/model.p\"\n",
    "device_type = \"gpu\"\n",
    "gpu_number = 0\n",
    "input_size = (2048, 2048)"
   ]
  },
  {
   "cell_type": "code",
   "execution_count": 4,
   "id": "d330679b",
   "metadata": {},
   "outputs": [],
   "source": [
    "df = pd.read_csv(\"../rsna_mammo/fold/train_with_fold.csv\")"
   ]
  },
  {
   "cell_type": "code",
   "execution_count": 5,
   "id": "255743b1",
   "metadata": {},
   "outputs": [
    {
     "name": "stderr",
     "output_type": "stream",
     "text": [
      "54706it [00:03, 17191.43it/s]\n"
     ]
    }
   ],
   "source": [
    "image_path_dict = {}\n",
    "for idx, row in tqdm(df.iterrows()):\n",
    "    patient_id = row[\"patient_id\"]\n",
    "    image_id = row[\"image_id\"]\n",
    "    view = row[\"view\"]\n",
    "    laterality = row[\"laterality\"]\n",
    "    if patient_id not in image_path_dict:\n",
    "        image_path_dict[patient_id] = {}\n",
    "    image_path_dict[patient_id][f\"{laterality}-{view}\"] = image_id"
   ]
  },
  {
   "cell_type": "code",
   "execution_count": 6,
   "id": "c6e698ed",
   "metadata": {},
   "outputs": [],
   "source": [
    "def rename_image_tmp(patient_id):\n",
    "    image_dir = Path(\"../data\") / str(patient_id)\n",
    "    image_path_l_cc = image_dir / (f'{image_path_dict[patient_id][\"L-CC\"]}'+\".png\")\n",
    "    image_path_l_mlo = image_dir / (f'{image_path_dict[patient_id][\"L-MLO\"]}'+\".png\")\n",
    "    image_path_r_cc = image_dir / (f'{image_path_dict[patient_id][\"R-CC\"]}'+\".png\")\n",
    "    image_path_r_mlo = image_dir / (f'{image_path_dict[patient_id][\"R-MLO\"]}'+\".png\")\n",
    "    tmp_dir = Path(f\"./tmp_{patient_id}\")\n",
    "    tmp_dir.mkdir(exist_ok=True)\n",
    "    shutil.copyfile(image_path_l_cc, tmp_dir / \"L-CC.png\")\n",
    "    shutil.copyfile(image_path_l_mlo, tmp_dir / \"L-MLO.png\")\n",
    "    shutil.copyfile(image_path_r_cc, tmp_dir / \"R-CC.png\")\n",
    "    shutil.copyfile(image_path_r_mlo, tmp_dir / \"R-MLO.png\")"
   ]
  },
  {
   "cell_type": "code",
   "execution_count": 43,
   "id": "e7a1963e",
   "metadata": {},
   "outputs": [],
   "source": [
    "idx_list = df[(df[\"fold\"]==0)][\"patient_id\"].unique()"
   ]
  },
  {
   "cell_type": "code",
   "execution_count": 27,
   "id": "d858bcc5",
   "metadata": {},
   "outputs": [],
   "source": [
    "patient_id = idx_list[0]\n",
    "rename_image_tmp(patient_id)\n",
    "image_path = f\"./tmp_{patient_id}/\""
   ]
  },
  {
   "cell_type": "code",
   "execution_count": 47,
   "id": "548686b9",
   "metadata": {},
   "outputs": [
    {
     "name": "stderr",
     "output_type": "stream",
     "text": [
      "100%|██████████| 2978/2978 [14:49<00:00,  3.35it/s]\n"
     ]
    }
   ],
   "source": [
    "birads_pred = []\n",
    "for idx in tqdm(range(len(idx_list))):\n",
    "    patient_id = idx_list[idx]\n",
    "    rename_image_tmp(patient_id)\n",
    "    image_path = f\"./tmp_{patient_id}/\"\n",
    "    parameters = {\n",
    "            \"model_path\": model_path,\n",
    "            \"device_type\": device_type,\n",
    "            \"gpu_number\": gpu_number,\n",
    "            \"image_path\": image_path,\n",
    "            \"input_size\": input_size,\n",
    "        }\n",
    "    res = inference(parameters, False)\n",
    "    birads_pred.append(res)\n",
    "    shutil.rmtree(image_path)"
   ]
  },
  {
   "cell_type": "code",
   "execution_count": 58,
   "id": "71e91b12",
   "metadata": {},
   "outputs": [],
   "source": [
    "birads_pred = np.array(birads_pred)"
   ]
  },
  {
   "cell_type": "code",
   "execution_count": 49,
   "id": "449a01fb",
   "metadata": {},
   "outputs": [],
   "source": [
    "df_0 = df[df[\"fold\"]==0]"
   ]
  },
  {
   "cell_type": "code",
   "execution_count": 66,
   "id": "a7181364",
   "metadata": {},
   "outputs": [],
   "source": [
    "df_birads_pred = pd.DataFrame(data=birads_pred)\n",
    "df_birads_pred[\"patient_id\"] = idx_list"
   ]
  },
  {
   "cell_type": "code",
   "execution_count": 71,
   "id": "048bcc4d",
   "metadata": {},
   "outputs": [],
   "source": [
    "# df_birads_pred.to_csv(\"../birads_pred_fold_0.csv\", index=False)"
   ]
  },
  {
   "cell_type": "code",
   "execution_count": 72,
   "id": "b677b99e",
   "metadata": {},
   "outputs": [],
   "source": [
    "df_0 = df_0.groupby(by=\"patient_id\").max().reset_index()"
   ]
  },
  {
   "cell_type": "code",
   "execution_count": 76,
   "id": "bec120f9",
   "metadata": {},
   "outputs": [],
   "source": [
    "df_0 = df_0.merge(df_birads_pred, on=\"patient_id\")"
   ]
  },
  {
   "cell_type": "code",
   "execution_count": 80,
   "id": "54d41339",
   "metadata": {},
   "outputs": [
    {
     "data": {
      "text/plain": [
       "<AxesSubplot:>"
      ]
     },
     "execution_count": 80,
     "metadata": {},
     "output_type": "execute_result"
    },
    {
     "data": {
      "image/png": "[encoded data removed]",
      "text/plain": [
       "<Figure size 432x288 with 1 Axes>"
      ]
     },
     "metadata": {
      "needs_background": "light"
     },
     "output_type": "display_data"
    }
   ],
   "source": [
    "# 正例のBIRADS=0の予測値\n",
    "df_0[df_0[\"cancer\"]==1][0].hist()"
   ]
  },
  {
   "cell_type": "code",
   "execution_count": 83,
   "id": "87460dba",
   "metadata": {},
   "outputs": [
    {
     "data": {
      "text/plain": [
       "<AxesSubplot:>"
      ]
     },
     "execution_count": 83,
     "metadata": {},
     "output_type": "execute_result"
    },
    {
     "data": {
      "image/png": "[encoded data removed]",
      "text/plain": [
       "<Figure size 432x288 with 1 Axes>"
      ]
     },
     "metadata": {
      "needs_background": "light"
     },
     "output_type": "display_data"
    }
   ],
   "source": [
    "# 負例のBIRADS=0の予測値\n",
    "df_0[df_0[\"cancer\"]==0][0].hist()"
   ]
  },
  {
   "cell_type": "code",
   "execution_count": 81,
   "id": "b198338e",
   "metadata": {},
   "outputs": [
    {
     "data": {
      "text/plain": [
       "<AxesSubplot:>"
      ]
     },
     "execution_count": 81,
     "metadata": {},
     "output_type": "execute_result"
    },
    {
     "data": {
      "image/png": "[encoded data removed]",
      "text/plain": [
       "<Figure size 432x288 with 1 Axes>"
      ]
     },
     "metadata": {
      "needs_background": "light"
     },
     "output_type": "display_data"
    }
   ],
   "source": [
    "# 正例のBIRADS=1の予測値\n",
    "df_0[df_0[\"cancer\"]==1][1].hist()"
   ]
  },
  {
   "cell_type": "code",
   "execution_count": 84,
   "id": "b43368ad",
   "metadata": {},
   "outputs": [
    {
     "data": {
      "text/plain": [
       "<AxesSubplot:>"
      ]
     },
     "execution_count": 84,
     "metadata": {},
     "output_type": "execute_result"
    },
    {
     "data": {
      "image/png": "[encoded data removed]",
      "text/plain": [
       "<Figure size 432x288 with 1 Axes>"
      ]
     },
     "metadata": {
      "needs_background": "light"
     },
     "output_type": "display_data"
    }
   ],
   "source": [
    "# 負例のBIRADS=1の予測値\n",
    "df_0[df_0[\"cancer\"]==0][1].hist()"
   ]
  },
  {
   "cell_type": "code",
   "execution_count": 82,
   "id": "78dc83a3",
   "metadata": {},
   "outputs": [
    {
     "data": {
      "text/plain": [
       "<AxesSubplot:>"
      ]
     },
     "execution_count": 82,
     "metadata": {},
     "output_type": "execute_result"
    },
    {
     "data": {
      "image/png": "[encoded data removed]",
      "text/plain": [
       "<Figure size 432x288 with 1 Axes>"
      ]
     },
     "metadata": {
      "needs_background": "light"
     },
     "output_type": "display_data"
    }
   ],
   "source": [
    "# 正例のBIRADS=2の予測値\n",
    "df_0[df_0[\"cancer\"]==1][2].hist()"
   ]
  },
  {
   "cell_type": "code",
   "execution_count": 85,
   "id": "c390a83d",
   "metadata": {},
   "outputs": [
    {
     "data": {
      "text/plain": [
       "<AxesSubplot:>"
      ]
     },
     "execution_count": 85,
     "metadata": {},
     "output_type": "execute_result"
    },
    {
     "data": {
      "image/png": "[encoded data removed]",
      "text/plain": [
       "<Figure size 432x288 with 1 Axes>"
      ]
     },
     "metadata": {
      "needs_background": "light"
     },
     "output_type": "display_data"
    }
   ],
   "source": [
    "# 負例のBIRADS=2の予測値\n",
    "df_0[df_0[\"cancer\"]==0][2].hist()"
   ]
  },
  {
   "cell_type": "code",
   "execution_count": null,
   "id": "ce239790",
   "metadata": {},
   "outputs": [],
   "source": []
  }
 ],
 "metadata": {
  "kernelspec": {
   "display_name": "Python 3 (ipykernel)",
   "language": "python",
   "name": "python3"
  },
  "language_info": {
   "codemirror_mode": {
    "name": "ipython",
    "version": 3
   },
   "file_extension": ".py",
   "mimetype": "text/x-python",
   "name": "python",
   "nbconvert_exporter": "python",
   "pygments_lexer": "ipython3",
   "version": "3.8.12"
  }
 },
 "nbformat": 4,
 "nbformat_minor": 5
}
