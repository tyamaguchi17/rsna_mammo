{
 "cells": [
  {
   "cell_type": "code",
   "execution_count": 1,
   "id": "96f5990b",
   "metadata": {},
   "outputs": [],
   "source": [
    "from pathlib import Path\n",
    "from tqdm import tqdm\n",
    "import numpy as np\n",
    "import pandas as pd\n",
    "import os\n",
    "import sys\n",
    "import shutil\n",
    "sys.path.append(\"../BIRADS_classifier\")\n",
    "os.chdir(\"../BIRADS_classifier\")"
   ]
  },
  {
   "cell_type": "code",
   "execution_count": 2,
   "id": "1d8b9b76",
   "metadata": {},
   "outputs": [],
   "source": [
    "from birads_prediction_torch import inference"
   ]
  },
  {
   "cell_type": "code",
   "execution_count": 3,
   "id": "ddf94bc3",
   "metadata": {},
   "outputs": [],
   "source": [
    "model_path = \"saved_models/model.p\"\n",
    "device_type = \"gpu\"\n",
    "gpu_number = 0\n",
    "input_size = (2048, 2048)"
   ]
  },
  {
   "cell_type": "code",
   "execution_count": 4,
   "id": "02614f7c",
   "metadata": {},
   "outputs": [],
   "source": [
    "df = pd.read_csv(\"../rsna_mammo/fold/train_with_fold.csv\")"
   ]
  },
  {
   "cell_type": "code",
   "execution_count": 5,
   "id": "447d51c7",
   "metadata": {},
   "outputs": [
    {
     "name": "stderr",
     "output_type": "stream",
     "text": [
      "54706it [00:03, 17191.43it/s]\n"
     ]
    }
   ],
   "source": [
    "image_path_dict = {}\n",
    "for idx, row in tqdm(df.iterrows()):\n",
    "    patient_id = row[\"patient_id\"]\n",
    "    image_id = row[\"image_id\"]\n",
    "    view = row[\"view\"]\n",
    "    laterality = row[\"laterality\"]\n",
    "    if patient_id not in image_path_dict:\n",
    "        image_path_dict[patient_id] = {}\n",
    "    image_path_dict[patient_id][f\"{laterality}-{view}\"] = image_id"
   ]
  },
  {
   "cell_type": "code",
   "execution_count": 6,
   "id": "2d21b730",
   "metadata": {},
   "outputs": [],
   "source": [
    "def rename_image_tmp(patient_id):\n",
    "    image_dir = Path(\"../data\") / str(patient_id)\n",
    "    image_path_l_cc = image_dir / (f'{image_path_dict[patient_id][\"L-CC\"]}'+\".png\")\n",
    "    image_path_l_mlo = image_dir / (f'{image_path_dict[patient_id][\"L-MLO\"]}'+\".png\")\n",
    "    image_path_r_cc = image_dir / (f'{image_path_dict[patient_id][\"R-CC\"]}'+\".png\")\n",
    "    image_path_r_mlo = image_dir / (f'{image_path_dict[patient_id][\"R-MLO\"]}'+\".png\")\n",
    "    tmp_dir = Path(f\"./tmp_{patient_id}\")\n",
    "    tmp_dir.mkdir(exist_ok=True)\n",
    "    shutil.copyfile(image_path_l_cc, tmp_dir / \"L-CC.png\")\n",
    "    shutil.copyfile(image_path_l_mlo, tmp_dir / \"L-MLO.png\")\n",
    "    shutil.copyfile(image_path_r_cc, tmp_dir / \"R-CC.png\")\n",
    "    shutil.copyfile(image_path_r_mlo, tmp_dir / \"R-MLO.png\")"
   ]
  },
  {
   "cell_type": "code",
   "execution_count": 43,
   "id": "c430fd2f",
   "metadata": {},
   "outputs": [],
   "source": [
    "idx_list = df[(df[\"fold\"]==0)][\"patient_id\"].unique()"
   ]
  },
  {
   "cell_type": "code",
   "execution_count": 27,
   "id": "6a483f2b",
   "metadata": {},
   "outputs": [],
   "source": [
    "patient_id = idx_list[0]\n",
    "rename_image_tmp(patient_id)\n",
    "image_path = f\"./tmp_{patient_id}/\""
   ]
  },
  {
   "cell_type": "code",
   "execution_count": 47,
   "id": "a87a9a10",
   "metadata": {},
   "outputs": [
    {
     "name": "stderr",
     "output_type": "stream",
     "text": [
      "100%|██████████| 2978/2978 [14:49<00:00,  3.35it/s]\n"
     ]
    }
   ],
   "source": [
    "birads_pred = []\n",
    "for idx in tqdm(range(len(idx_list))):\n",
    "    patient_id = idx_list[idx]\n",
    "    rename_image_tmp(patient_id)\n",
    "    image_path = f\"./tmp_{patient_id}/\"\n",
    "    parameters = {\n",
    "            \"model_path\": model_path,\n",
    "            \"device_type\": device_type,\n",
    "            \"gpu_number\": gpu_number,\n",
    "            \"image_path\": image_path,\n",
    "            \"input_size\": input_size,\n",
    "        }\n",
    "    res = inference(parameters, False)\n",
    "    birads_pred.append(res)\n",
    "    shutil.rmtree(image_path)"
   ]
  },
  {
   "cell_type": "code",
   "execution_count": 58,
   "id": "c9638e06",
   "metadata": {},
   "outputs": [],
   "source": [
    "birads_pred = np.array(birads_pred)"
   ]
  },
  {
   "cell_type": "code",
   "execution_count": 49,
   "id": "aeddef0a",
   "metadata": {},
   "outputs": [],
   "source": [
    "df_0 = df[df[\"fold\"]==0]"
   ]
  },
  {
   "cell_type": "code",
   "execution_count": 66,
   "id": "792b9e8d",
   "metadata": {},
   "outputs": [],
   "source": [
    "df_birads_pred = pd.DataFrame(data=birads_pred)\n",
    "df_birads_pred[\"patient_id\"] = idx_list"
   ]
  },
  {
   "cell_type": "code",
   "execution_count": 69,
   "id": "05b0950e",
   "metadata": {},
   "outputs": [],
   "source": [
    "df_birads_pred.to_csv(\"../birads_pred_fold_0.csv\", index=False)"
   ]
  },
  {
   "cell_type": "code",
   "execution_count": null,
   "id": "dcb22cf0",
   "metadata": {},
   "outputs": [],
   "source": []
  }
 ],
 "metadata": {
  "kernelspec": {
   "display_name": "Python 3 (ipykernel)",
   "language": "python",
   "name": "python3"
  },
  "language_info": {
   "codemirror_mode": {
    "name": "ipython",
    "version": 3
   },
   "file_extension": ".py",
   "mimetype": "text/x-python",
   "name": "python",
   "nbconvert_exporter": "python",
   "pygments_lexer": "ipython3",
   "version": "3.8.12"
  }
 },
 "nbformat": 4,
 "nbformat_minor": 5
}
